{
  "nbformat": 4,
  "nbformat_minor": 0,
  "metadata": {
    "colab": {
      "provenance": [],
      "authorship_tag": "ABX9TyMDKbmGCs70yMrWmE+cxWou",
      "include_colab_link": true
    },
    "kernelspec": {
      "name": "python3",
      "display_name": "Python 3"
    },
    "language_info": {
      "name": "python"
    }
  },
  "cells": [
    {
      "cell_type": "markdown",
      "metadata": {
        "id": "view-in-github",
        "colab_type": "text"
      },
      "source": [
        "<a href=\"https://colab.research.google.com/github/Shaikumar2005/ZeoTap-Data-Science-Intern/blob/main/Shai_Kumar_R_Lookalike.ipynb\" target=\"_parent\"><img src=\"https://colab.research.google.com/assets/colab-badge.svg\" alt=\"Open In Colab\"/></a>"
      ]
    },
    {
      "cell_type": "code",
      "execution_count": 2,
      "metadata": {
        "colab": {
          "base_uri": "https://localhost:8080/"
        },
        "id": "KpLmpL8eyYZl",
        "outputId": "f1ef3fe6-4c11-4036-d99d-f284e13d6f0f"
      },
      "outputs": [
        {
          "output_type": "stream",
          "name": "stdout",
          "text": [
            "Lookalike.csv created successfully!\n"
          ]
        }
      ],
      "source": [
        "import pandas as pd\n",
        "from sklearn.preprocessing import StandardScaler, OneHotEncoder\n",
        "from sklearn.metrics.pairwise import cosine_similarity\n",
        "import numpy as np\n",
        "\n",
        "# Load datasets\n",
        "customers = pd.read_csv(\"Customers.csv\")\n",
        "products = pd.read_csv(\"Products.csv\")\n",
        "transactions = pd.read_csv(\"Transactions.csv\")\n",
        "\n",
        "# Merge datasets\n",
        "merged = pd.merge(transactions, customers, on=\"CustomerID\")\n",
        "merged = pd.merge(merged, products, on=\"ProductID\")\n",
        "\n",
        "# Feature Engineering\n",
        "# Aggregate transaction data for each customer\n",
        "customer_features = merged.groupby(\"CustomerID\").agg(\n",
        "    total_spent=(\"TotalValue\", \"sum\"),\n",
        "    avg_quantity=(\"Quantity\", \"mean\"),\n",
        "    purchase_count=(\"TransactionID\", \"count\"),\n",
        "    most_frequent_category=(\"Category\", lambda x: x.mode()[0]),\n",
        "    region=(\"Region\", \"first\"),\n",
        "    signup_date=(\"SignupDate\", \"first\"),\n",
        ").reset_index()\n",
        "\n",
        "# Encode categorical features\n",
        "encoder = OneHotEncoder()\n",
        "categorical_features = encoder.fit_transform(\n",
        "    customer_features[[\"most_frequent_category\", \"region\"]]\n",
        ").toarray()\n",
        "\n",
        "# Scale numerical features\n",
        "scaler = StandardScaler()\n",
        "numerical_features = scaler.fit_transform(\n",
        "    customer_features[[\"total_spent\", \"avg_quantity\", \"purchase_count\"]]\n",
        ")\n",
        "\n",
        "# Combine features\n",
        "features = np.hstack([numerical_features, categorical_features])\n",
        "\n",
        "# Compute similarity matrix\n",
        "similarity_matrix = cosine_similarity(features)\n",
        "\n",
        "# Find lookalikes for each customer\n",
        "lookalike_map = {}\n",
        "customer_ids = customer_features[\"CustomerID\"].tolist()\n",
        "\n",
        "for idx, customer_id in enumerate(customer_ids[:20]):  # Limit to first 20 customers\n",
        "    similarities = similarity_matrix[idx]\n",
        "    similar_indices = np.argsort(similarities)[::-1][1:4]  # Top 3 similar customers\n",
        "    lookalikes = [(customer_ids[i], similarities[i]) for i in similar_indices]\n",
        "    lookalike_map[customer_id] = lookalikes\n",
        "\n",
        "# Create Lookalike.csv\n",
        "lookalike_df = pd.DataFrame(\n",
        "    [\n",
        "        {\n",
        "            \"cust_id\": cust_id,\n",
        "            \"lookalike_cust_id_1\": lookalikes[0][0],\n",
        "            \"score_1\": lookalikes[0][1],\n",
        "            \"lookalike_cust_id_2\": lookalikes[1][0],\n",
        "            \"score_2\": lookalikes[1][1],\n",
        "            \"lookalike_cust_id_3\": lookalikes[2][0],\n",
        "            \"score_3\": lookalikes[2][1],\n",
        "        }\n",
        "        for cust_id, lookalikes in lookalike_map.items()\n",
        "    ]\n",
        ")\n",
        "\n",
        "lookalike_df.to_csv(\"Shai_Kumar R_Lookalike.csv\", index=False)\n",
        "\n",
        "print(\"Lookalike.csv created successfully!\")\n"
      ]
    }
  ]
}